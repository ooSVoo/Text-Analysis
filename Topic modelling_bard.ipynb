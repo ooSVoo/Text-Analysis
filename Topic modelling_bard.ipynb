{
 "cells": [
  {
   "cell_type": "markdown",
   "id": "0e35b7bf",
   "metadata": {},
   "source": [
    "Lowercase"
   ]
  },
  {
   "cell_type": "code",
   "execution_count": 1,
   "id": "d9cc9f47",
   "metadata": {},
   "outputs": [],
   "source": [
    "import pandas as pd\n",
    "\n",
    "# Define the path to your CSV file\n",
    "csv_file = 'Bard AI.csv'\n",
    "\n",
    "# Read the CSV file into a pandas DataFrame\n",
    "df = pd.read_csv(csv_file)\n",
    "\n",
    "# Convert all text columns to lowercase\n",
    "df = df.apply(lambda x: x.str.lower() if x.dtype == \"object\" else x)"
   ]
  },
  {
   "cell_type": "markdown",
   "id": "921478dc",
   "metadata": {},
   "source": [
    "Removing numbers"
   ]
  },
  {
   "cell_type": "code",
   "execution_count": 2,
   "id": "41468170",
   "metadata": {},
   "outputs": [
    {
     "name": "stderr",
     "output_type": "stream",
     "text": [
      "C:\\Users\\Purgatory\\AppData\\Local\\Temp\\ipykernel_6588\\262874815.py:6: FutureWarning: DataFrame.applymap has been deprecated. Use DataFrame.map instead.\n",
      "  df = df.applymap(lambda x: remove_numbers(str(x)) if isinstance(x, str) else x)\n"
     ]
    }
   ],
   "source": [
    "# Function to remove numbers from a string\n",
    "def remove_numbers(text):\n",
    "    return ''.join([char for char in text if not char.isdigit()])\n",
    "\n",
    "# Apply the remove_numbers function to columns containing strings\n",
    "df = df.applymap(lambda x: remove_numbers(str(x)) if isinstance(x, str) else x)"
   ]
  },
  {
   "cell_type": "markdown",
   "id": "d8723772",
   "metadata": {},
   "source": [
    "Removing punctuations"
   ]
  },
  {
   "cell_type": "code",
   "execution_count": 3,
   "id": "ee87214d",
   "metadata": {},
   "outputs": [
    {
     "name": "stderr",
     "output_type": "stream",
     "text": [
      "C:\\Users\\Purgatory\\AppData\\Local\\Temp\\ipykernel_6588\\1511567814.py:12: FutureWarning: DataFrame.applymap has been deprecated. Use DataFrame.map instead.\n",
      "  df = df.applymap(lambda x: remove_punctuation(str(x)) if isinstance(x, str) else x)\n"
     ]
    }
   ],
   "source": [
    "import pandas as pd\n",
    "import nltk\n",
    "from nltk.tokenize import RegexpTokenizer\n",
    "\n",
    "# Function to remove punctuation using RegexpTokenizer\n",
    "def remove_punctuation(text):\n",
    "    tokenizer = RegexpTokenizer(r'\\w+')\n",
    "    tokens = tokenizer.tokenize(text)\n",
    "    return ' '.join(tokens)\n",
    "\n",
    "# Apply the remove_punctuation function to columns containing strings\n",
    "df = df.applymap(lambda x: remove_punctuation(str(x)) if isinstance(x, str) else x)"
   ]
  },
  {
   "cell_type": "markdown",
   "id": "4542128c",
   "metadata": {},
   "source": [
    "Removing stopwords"
   ]
  },
  {
   "cell_type": "code",
   "execution_count": 4,
   "id": "9c02b2fd",
   "metadata": {},
   "outputs": [
    {
     "name": "stderr",
     "output_type": "stream",
     "text": [
      "C:\\Users\\Purgatory\\AppData\\Local\\Temp\\ipykernel_6588\\1633075789.py:14: FutureWarning: DataFrame.applymap has been deprecated. Use DataFrame.map instead.\n",
      "  df = df.applymap(lambda x: remove_stopwords(str(x)) if isinstance(x, str) else x)\n"
     ]
    }
   ],
   "source": [
    "import pandas as pd\n",
    "import nltk\n",
    "from nltk.corpus import stopwords\n",
    "\n",
    "\n",
    "# Function to remove stopwords\n",
    "def remove_stopwords(text):\n",
    "    stop_words = set(stopwords.words('english'))\n",
    "    words = text.split()\n",
    "    filtered_words = [word for word in words if word.lower() not in stop_words]\n",
    "    return ' '.join(filtered_words)\n",
    "\n",
    "# Apply the remove_stopwords function to columns containing strings\n",
    "df = df.applymap(lambda x: remove_stopwords(str(x)) if isinstance(x, str) else x)"
   ]
  },
  {
   "cell_type": "markdown",
   "id": "0c7ec0fb",
   "metadata": {},
   "source": [
    "Lemmatization"
   ]
  },
  {
   "cell_type": "code",
   "execution_count": 5,
   "id": "33812ad7",
   "metadata": {},
   "outputs": [
    {
     "name": "stderr",
     "output_type": "stream",
     "text": [
      "C:\\Users\\Purgatory\\AppData\\Local\\Temp\\ipykernel_6588\\999503772.py:26: FutureWarning: DataFrame.applymap has been deprecated. Use DataFrame.map instead.\n",
      "  df = df.applymap(lambda x: lemmatize_text(str(x)) if isinstance(x, str) else x)\n"
     ]
    }
   ],
   "source": [
    "import pandas as pd\n",
    "import nltk\n",
    "from nltk.corpus import wordnet\n",
    "from nltk.stem import WordNetLemmatizer\n",
    "\n",
    "# Initialize the WordNet Lemmatizer\n",
    "lemmatizer = WordNetLemmatizer()\n",
    "\n",
    "# Function to perform lemmatization\n",
    "def lemmatize_text(text):\n",
    "    # Tokenize the text into words\n",
    "    words = nltk.word_tokenize(text)\n",
    "    # Lemmatize each word based on its part of speech\n",
    "    lemmatized_words = [lemmatizer.lemmatize(word, get_wordnet_pos(word)) for word in words]\n",
    "    # Join the lemmatized words back into a sentence\n",
    "    lemmatized_text = ' '.join(lemmatized_words)\n",
    "    return lemmatized_text\n",
    "\n",
    "# Helper function to get WordNet part of speech tags\n",
    "def get_wordnet_pos(word):\n",
    "    tag = nltk.pos_tag([word])[0][1][0].upper()\n",
    "    tag_dict = {\"J\": wordnet.ADJ, \"N\": wordnet.NOUN, \"V\": wordnet.VERB, \"R\": wordnet.ADV}\n",
    "    return tag_dict.get(tag, wordnet.NOUN)  # Default to noun if no match is found\n",
    "\n",
    "# Apply the lemmatize_text function to columns containing strings\n",
    "df = df.applymap(lambda x: lemmatize_text(str(x)) if isinstance(x, str) else x)"
   ]
  },
  {
   "cell_type": "code",
   "execution_count": 6,
   "id": "451fa679",
   "metadata": {},
   "outputs": [
    {
     "name": "stdout",
     "output_type": "stream",
     "text": [
      "Lemmatization has been applied to the dataset and saved as ChatGPT_cleaned.csv.\n"
     ]
    }
   ],
   "source": [
    "# Save the modified DataFrame to a new CSV file\n",
    "df.to_csv('BardAI_cleaned.csv', index=False)\n",
    "\n",
    "print(\"Lemmatization has been applied to the dataset and saved as ChatGPT_cleaned.csv.\")"
   ]
  },
  {
   "cell_type": "code",
   "execution_count": 7,
   "id": "3f5e7fb4",
   "metadata": {},
   "outputs": [
    {
     "data": {
      "text/html": [
       "<div>\n",
       "<style scoped>\n",
       "    .dataframe tbody tr th:only-of-type {\n",
       "        vertical-align: middle;\n",
       "    }\n",
       "\n",
       "    .dataframe tbody tr th {\n",
       "        vertical-align: top;\n",
       "    }\n",
       "\n",
       "    .dataframe thead th {\n",
       "        text-align: right;\n",
       "    }\n",
       "</style>\n",
       "<table border=\"1\" class=\"dataframe\">\n",
       "  <thead>\n",
       "    <tr style=\"text-align: right;\">\n",
       "      <th></th>\n",
       "      <th>Title</th>\n",
       "      <th>Content</th>\n",
       "    </tr>\n",
       "  </thead>\n",
       "  <tbody>\n",
       "    <tr>\n",
       "      <th>0</th>\n",
       "      <td>morning pixel pro bard ai everything else goog...</td>\n",
       "      <td>although announcement leak advance pixel news ...</td>\n",
       "    </tr>\n",
       "    <tr>\n",
       "      <th>1</th>\n",
       "      <td>bing bard update fuel ai search war computerworld</td>\n",
       "      <td>jon gold senior writer computerworld microsoft...</td>\n",
       "    </tr>\n",
       "    <tr>\n",
       "      <th>2</th>\n",
       "      <td>google launch generative ai enhance version as...</td>\n",
       "      <td>emma roth news writer cover stream war consume...</td>\n",
       "    </tr>\n",
       "    <tr>\n",
       "      <th>3</th>\n",
       "      <td>chatgpt vision overtakes google bard future ai...</td>\n",
       "      <td>artificial intelligence make stride across ind...</td>\n",
       "    </tr>\n",
       "    <tr>\n",
       "      <th>4</th>\n",
       "      <td>briefing google overhaul mobile voice assistan...</td>\n",
       "      <td>anthropic talk raise billion google others day...</td>\n",
       "    </tr>\n",
       "  </tbody>\n",
       "</table>\n",
       "</div>"
      ],
      "text/plain": [
       "                                               Title  \\\n",
       "0  morning pixel pro bard ai everything else goog...   \n",
       "1  bing bard update fuel ai search war computerworld   \n",
       "2  google launch generative ai enhance version as...   \n",
       "3  chatgpt vision overtakes google bard future ai...   \n",
       "4  briefing google overhaul mobile voice assistan...   \n",
       "\n",
       "                                             Content  \n",
       "0  although announcement leak advance pixel news ...  \n",
       "1  jon gold senior writer computerworld microsoft...  \n",
       "2  emma roth news writer cover stream war consume...  \n",
       "3  artificial intelligence make stride across ind...  \n",
       "4  anthropic talk raise billion google others day...  "
      ]
     },
     "execution_count": 7,
     "metadata": {},
     "output_type": "execute_result"
    }
   ],
   "source": [
    "df.head()"
   ]
  },
  {
   "cell_type": "code",
   "execution_count": 8,
   "id": "f7e2a861",
   "metadata": {},
   "outputs": [],
   "source": [
    "import re\n",
    "import numpy as np\n",
    "import pandas as pd\n",
    "from pprint import pprint\n",
    "\n",
    "# Gensim\n",
    "import gensim\n",
    "import gensim.corpora as corpora\n",
    "from gensim.utils import simple_preprocess\n",
    "from gensim.models import CoherenceModel\n",
    "\n",
    "# spacy for lemmatization\n",
    "import spacy\n",
    "\n",
    "# Plotting tools\n",
    "import pyLDAvis\n",
    "import matplotlib.pyplot as plt\n",
    "%matplotlib inline\n",
    "\n",
    "# Enable logging for gensim - optional\n",
    "import logging\n",
    "logging.basicConfig(format='%(asctime)s : %(levelname)s : %(message)s', level=logging.ERROR)\n",
    "\n",
    "import warnings\n",
    "warnings.filterwarnings(\"ignore\",category=DeprecationWarning)"
   ]
  },
  {
   "cell_type": "code",
   "execution_count": 9,
   "id": "7658656a",
   "metadata": {},
   "outputs": [],
   "source": [
    "import pandas as pd\n",
    "\n",
    "dt=pd.read_csv('BardAI_cleaned.csv')"
   ]
  },
  {
   "cell_type": "code",
   "execution_count": 10,
   "id": "9f3429c8",
   "metadata": {},
   "outputs": [],
   "source": [
    "import pandas as pd\n",
    "import re\n",
    "\n",
    "# Define the path to your CSV file\n",
    "csv_file = 'BardAI_cleaned.csv'\n",
    "\n",
    "# Read the CSV file into a pandas DataFrame\n",
    "df = pd.read_csv(csv_file)\n",
    "\n",
    "# Convert to list and ensure all elements are treated as strings\n",
    "data = dt['Content'].astype(str).tolist()\n",
    "\n",
    "# Remove Emails\n",
    "data = [re.sub(r'\\S*@\\S*\\s?', '', sent) for sent in data]\n",
    "\n",
    "# Remove new line characters\n",
    "data = [re.sub(r'\\s+', ' ', sent) for sent in data]\n",
    "\n",
    "# Remove distracting single quotes\n",
    "data = [re.sub(r\"\\'\", \"\", sent) for sent in data]\n",
    "\n",
    "# Remove numbers\n",
    "data = [re.sub(r'\\d+', ' ', sent) for sent in data]\n",
    "\n",
    "# Join the cleaned text back into the DataFrame\n",
    "df['Content'] = data\n"
   ]
  },
  {
   "cell_type": "code",
   "execution_count": 11,
   "id": "c24e41b0",
   "metadata": {},
   "outputs": [
    {
     "data": {
      "text/html": [
       "<div>\n",
       "<style scoped>\n",
       "    .dataframe tbody tr th:only-of-type {\n",
       "        vertical-align: middle;\n",
       "    }\n",
       "\n",
       "    .dataframe tbody tr th {\n",
       "        vertical-align: top;\n",
       "    }\n",
       "\n",
       "    .dataframe thead th {\n",
       "        text-align: right;\n",
       "    }\n",
       "</style>\n",
       "<table border=\"1\" class=\"dataframe\">\n",
       "  <thead>\n",
       "    <tr style=\"text-align: right;\">\n",
       "      <th></th>\n",
       "      <th>Title</th>\n",
       "      <th>Content</th>\n",
       "    </tr>\n",
       "  </thead>\n",
       "  <tbody>\n",
       "    <tr>\n",
       "      <th>0</th>\n",
       "      <td>morning pixel pro bard ai everything else goog...</td>\n",
       "      <td>although announcement leak advance pixel news ...</td>\n",
       "    </tr>\n",
       "    <tr>\n",
       "      <th>1</th>\n",
       "      <td>bing bard update fuel ai search war computerworld</td>\n",
       "      <td>jon gold senior writer computerworld microsoft...</td>\n",
       "    </tr>\n",
       "    <tr>\n",
       "      <th>2</th>\n",
       "      <td>google launch generative ai enhance version as...</td>\n",
       "      <td>emma roth news writer cover stream war consume...</td>\n",
       "    </tr>\n",
       "    <tr>\n",
       "      <th>3</th>\n",
       "      <td>chatgpt vision overtakes google bard future ai...</td>\n",
       "      <td>artificial intelligence make stride across ind...</td>\n",
       "    </tr>\n",
       "    <tr>\n",
       "      <th>4</th>\n",
       "      <td>briefing google overhaul mobile voice assistan...</td>\n",
       "      <td>anthropic talk raise billion google others day...</td>\n",
       "    </tr>\n",
       "  </tbody>\n",
       "</table>\n",
       "</div>"
      ],
      "text/plain": [
       "                                               Title  \\\n",
       "0  morning pixel pro bard ai everything else goog...   \n",
       "1  bing bard update fuel ai search war computerworld   \n",
       "2  google launch generative ai enhance version as...   \n",
       "3  chatgpt vision overtakes google bard future ai...   \n",
       "4  briefing google overhaul mobile voice assistan...   \n",
       "\n",
       "                                             Content  \n",
       "0  although announcement leak advance pixel news ...  \n",
       "1  jon gold senior writer computerworld microsoft...  \n",
       "2  emma roth news writer cover stream war consume...  \n",
       "3  artificial intelligence make stride across ind...  \n",
       "4  anthropic talk raise billion google others day...  "
      ]
     },
     "execution_count": 11,
     "metadata": {},
     "output_type": "execute_result"
    }
   ],
   "source": [
    "dt.head()"
   ]
  },
  {
   "cell_type": "code",
   "execution_count": 12,
   "id": "1600bfcf",
   "metadata": {},
   "outputs": [
    {
     "name": "stdout",
     "output_type": "stream",
     "text": [
      "[['although', 'announcement', 'leak', 'advance', 'pixel', 'news', 'google', 'one', 'sort', 'surprise', 'work', 'fuse', 'assistant', 'bard', 'ai', 'together', 'demo', 'google', 'show', 'assistant', 'pull', 'detail', 'party', 'invite', 'gmail', 'ask', 'party', 'assistant', 'bard', 'tell', 'location', 'tap', 'google', 'map', 'direction', 'able', 'ask', 'direction', 'past', 'assistant', 'pull', 'address', 'context', 'could', 'chat', 'bard', 'whip', 'meal', 'plan', 'grocery', 'list', 'export', 'google', 'doc', 'gmail', 'without', 'keyboard', 'copy', 'paste', 'release', 'date', 'yet', 'google', 'say', 'assistant', 'bard', 'come', 'soon', 'android', 'io', 'quick', 'note', 'anyone', 'try', 'subscribe', 'get', 'tma', 'newsletter', 'upgraded', 'signup', 'process', 'please', 'click', 'subscribe', 'mat', 'smith', 'google', 'pixel', 'watch', 'hand', 'apple', 'fix', 'iphone', 'overheat', 'issue', 'google', 'pixel', 'small', 'inch', 'flagship', 'big', 'battery', 'pixel', 'series', 'get', 'ai', 'power', 'edit', 'tool', 'photo', 'video', 'pixel', 'pixel', 'pro', 'look', 'largely', 'predecessor', 'couple', 'key', 'difference', 'regular', 'pixel', 'slightly', 'small', 'make', 'easy', 'use', 'one', 'hand', 'meanwhile', 'pro', 'model', 'new', 'matte', 'finish', 'upgraded', 'camera', 'intrigue', 'temperature', 'sensor', 'across', 'pixel', 'series', 'get', 'company', 'tensor', 'processor', 'notably', 'seven', 'year', 'android', 'security', 'update', 'might', 'able', 'hang', 'pixel', 'flagship', 'lot', 'longer', 'new', 'temperature', 'sensor', 'pixel', 'pro', 'sound', 'like', 'gimmick', 'might', 'stale', 'tire', 'land', 'smartphones', 'take', 'anything', 'different', 'take', 'reading', 'launch', 'new', 'temperature', 'app', 'select', 'type', 'object', 'try', 'measure', 'google', 'wait', 'fda', 'approval', 'enable', 'pixel', 'pro', 'take', 'body', 'temperature', 'reading', 'new', 'pixel', 'start', 'predecessor', 'pixel', 'pro', 'cost', 'another', 'increase', 'pixel', 'pro', 'continue', 'reading', 'airbnb', 'chief', 'executive', 'brian', 'chesky', 'told', 'financial', 'time', 'company', 'go', 'little', 'bit', 'beyond', 'core', 'business', 'start', 'next', 'year', 'chesky', 'want', 'airbnb', 'expand', 'focus', 'currently', 'planning', 'push', 'long', 'term', 'rental', 'service', 'already', 'offer', 'monthly', 'rental', 'apparently', 'percent', 'gross', 'night', 'book', 'second', 'quarter', 'come', 'stay', 'longer', 'day', 'chesky', 'believe', 'company', 'drum', 'interest', 'long', 'term', 'booking', 'continue', 'reading', 'patreon', 'announce', 'wide', 'range', 'rebranding', 'platform', 'series', 'update', 'include', 'offering', 'supporter', 'way', 'follow', 'favorite', 'integrate', 'free', 'content', 'creator', 'creator', 'let', 'people', 'join', 'free', 'share', 'content', 'update', 'non', 'pay', 'member', 'optionally', 'hiding', 'thing', 'like', 'early', 'access', 'podcasts', 'video', 'behind', 'paywall', 'also', 'use', 'new', 'commerce', 'tool', 'sell', 'individual', 'piece', 'content', 'like', 'recording', 'video', 'downloadable', 'file', 'continue', 'reading', 'google', 'roll', 'public', 'build', 'android', 'ever', 'pixel', 'user', 'able', 'download', 'new', 'version', 'operating', 'system', 'first', 'support', 'model', 'pixel', 'newer', 'samsung', 'oneplus', 'android', 'device', 'maker', 'get', 'access', 'update', 'later', 'year', 'deeper', 'customization', 'major', 'focus', 'time', 'around', 'able', 'choose', 'variety', 'lock', 'screen', 'template', 'way', 'customize', 'wallpaper', 'thanks', 'addition', 'generative', 'ai', 'capability', 'select', 'text', 'prompt', 'ai', 'whip', 'related', 'image', 'continue', 'reading', 'place', 'edit', 'interact', 'customizable', 'widget', 'macos', 'sonoma', 'hyundai', 'reach', 'deal', 'adopt', 'tesla', 'nac', 'charge', 'standard', 'north', 'america', 'start', 'canada', 'follow', 'first', 'half', 'amazon', 'sale', 'apple', 'watch', 'series', 'thanks', 'coupon', 'low', 'price', 'see', 'date', 'samsung', 'unveiled', 'smarttag', 'airtag', 'like', 'track', 'device', 'successor', 'original', 'smarttag', 'release', 'amazon', 'launch', 'first', 'two', 'project', 'kuiper', 'satellite', 'protoflight', 'mission', 'website', 'formerly', 'know', 'twitter', 'start', 'remove', 'headline', 'snippet', 'post', 'link', 'implement', 'change', 'fortune', 'report', 'august', 'amazon', 'shut', 'short', 'live', 'audio', 'app', 'know', 'amp', 'tool', 'design', 'allow', 'creator', 'make', 'custom', 'content', 'modern', 'dj', 'host', 'patreon', 'announce', 'slew', 'change', 'platform', 'today', 'prominent', 'much', 'easy', 'non', 'pay', 'user', 'access', 'platform', 'rockstar', 'snuck', 'update', 'port', 'red', 'dead', 'redemption', 'run', 'fps', 'played', 'backward', 'compatibility', 'mode', 'apple', 'release', 'fix', 'issue', 'cause', 'iphone', 'device', 'overheat', 'case', 'install', 'late', 'io', 'update', 'uber', 'announce', 'new', 'feature', 'dubbed', 'return', 'package', 'customer', 'courier', 'pick', 'package', 'drop', 'local', 'post', 'office', 'ups', 'fedex', 'google', 'reveal', 'pixel', 'pixel', 'pro', 'along', 'pixel', 'watch', 'meanwhile', 'android', 'today', 'catch', 'news', 'make', 'google', 'event', 'google', 'announce', 'assistant', 'bard', 'new', 'version', 'personal', 'assistant', 'tap', 'generative', 'ai', 'google', 'hardware', 'event', 'also', 'reveal', 'software', 'enhancement', 'massive', 'ai', 'enhance', 'photo', 'edit', 'tool', 'magic', 'eraser', 'handle', 'audio', 'video', 'google', 'officially', 'announce', 'pixel', 'wednesday', 'make', 'google', 'event', 'spec', 'stack', 'competitor', 'wearable', 'space', 'make', 'google', 'event', 'new', 'york', 'company', 'announce', 'new', 'generative', 'ai', 'feature', 'make', 'available', 'fitbit', 'app', 'later', 'next', 'year', 'new', 'google', 'pixel', 'pro', 'compare', 'apple', 'iphone', 'pro', 'max', 'samsung', 'galaxy', 'ultra', 'spec', 'sheet', 'new', 'google', 'pixel', 'compare', 'two', 'close', 'rival', 'apple', 'iphone', 'samsung', 'galaxy', 'paper', 'pre', 'order', 'google', 'late', 'pixel', 'smartphones', 'new', 'pixel', 'watch', 'new', 'pixel', 'earbuds', 'luxury', 'designer', 'work', 'closely', 'axiom', 'space', 'subscribe', 'two', 'newsletter', 'weekly', 'roundup', 'favorite', 'tech', 'deal', 'daily', 'dose', 'news', 'need', 'please', 'enter', 'valid', 'email', 'address', 'please', 'select', 'newsletter', 'subscribe', 'agree', 'engadget', 'term', 'privacy', 'policy']]\n"
     ]
    }
   ],
   "source": [
    "def sent_to_words(sentences):\n",
    "    for sentence in sentences:\n",
    "        yield(gensim.utils.simple_preprocess(str(sentence), deacc=True))  # deacc=True removes punctuations\n",
    "\n",
    "data_words = list(sent_to_words(data))\n",
    "\n",
    "print(data_words[:1])"
   ]
  },
  {
   "cell_type": "code",
   "execution_count": 13,
   "id": "02e11b3b",
   "metadata": {},
   "outputs": [
    {
     "name": "stdout",
     "output_type": "stream",
     "text": [
      "['although', 'announcement', 'leak', 'advance', 'pixel', 'news', 'google', 'one', 'sort', 'surprise', 'work', 'fuse', 'assistant', 'bard', 'ai', 'together', 'demo', 'google', 'show', 'assistant', 'pull', 'detail', 'party', 'invite', 'gmail', 'ask', 'party', 'assistant', 'bard', 'tell', 'location', 'tap', 'google', 'map', 'direction', 'able', 'ask', 'direction', 'past', 'assistant', 'pull', 'address', 'context', 'could', 'chat', 'bard', 'whip', 'meal', 'plan', 'grocery_list', 'export', 'google', 'doc', 'gmail', 'without', 'keyboard', 'copy', 'paste', 'release', 'date', 'yet', 'google', 'say', 'assistant', 'bard', 'come', 'soon', 'android_io', 'quick', 'note', 'anyone', 'try', 'subscribe', 'get', 'tma', 'newsletter', 'upgraded', 'signup', 'process', 'please', 'click', 'subscribe', 'mat', 'smith', 'google', 'pixel', 'watch', 'hand', 'apple', 'fix', 'iphone', 'overheat', 'issue', 'google', 'pixel', 'small', 'inch', 'flagship', 'big', 'battery', 'pixel', 'series', 'get', 'ai', 'power', 'edit', 'tool', 'photo', 'video', 'pixel_pixel_pro', 'look', 'largely', 'predecessor', 'couple', 'key', 'difference', 'regular', 'pixel', 'slightly', 'small', 'make', 'easy', 'use', 'one', 'hand', 'meanwhile', 'pro', 'model', 'new', 'matte', 'finish', 'upgraded', 'camera', 'intrigue', 'temperature', 'sensor', 'across', 'pixel', 'series', 'get', 'company', 'tensor', 'processor', 'notably', 'seven', 'year', 'android', 'security', 'update', 'might', 'able', 'hang', 'pixel', 'flagship', 'lot', 'longer', 'new', 'temperature', 'sensor', 'pixel_pro', 'sound', 'like', 'gimmick', 'might', 'stale', 'tire', 'land', 'smartphones', 'take', 'anything', 'different', 'take', 'reading', 'launch', 'new', 'temperature', 'app', 'select', 'type', 'object', 'try', 'measure', 'google', 'wait', 'fda', 'approval', 'enable', 'pixel_pro', 'take', 'body', 'temperature', 'reading', 'new', 'pixel', 'start', 'predecessor', 'pixel_pro', 'cost', 'another', 'increase', 'pixel_pro', 'continue_reading', 'airbnb', 'chief', 'executive', 'brian', 'chesky', 'told', 'financial', 'time', 'company', 'go', 'little', 'bit', 'beyond', 'core', 'business', 'start', 'next', 'year', 'chesky', 'want', 'airbnb', 'expand', 'focus', 'currently', 'planning', 'push', 'long_term', 'rental', 'service', 'already', 'offer', 'monthly', 'rental', 'apparently', 'percent', 'gross', 'night', 'book', 'second', 'quarter', 'come', 'stay', 'longer', 'day', 'chesky', 'believe', 'company', 'drum', 'interest', 'long_term', 'booking', 'continue_reading', 'patreon', 'announce', 'wide_range', 'rebranding', 'platform', 'series', 'update', 'include', 'offering', 'supporter', 'way', 'follow', 'favorite', 'integrate', 'free', 'content', 'creator', 'creator', 'let', 'people', 'join', 'free', 'share', 'content', 'update', 'non', 'pay', 'member', 'optionally', 'hiding', 'thing', 'like', 'early', 'access', 'podcasts', 'video', 'behind', 'paywall', 'also', 'use', 'new', 'commerce', 'tool', 'sell', 'individual', 'piece', 'content', 'like', 'recording', 'video', 'downloadable', 'file', 'continue_reading', 'google', 'roll', 'public', 'build', 'android', 'ever', 'pixel', 'user', 'able', 'download', 'new', 'version', 'operating_system', 'first', 'support', 'model', 'pixel', 'newer', 'samsung', 'oneplus', 'android', 'device', 'maker', 'get', 'access', 'update', 'later', 'year', 'deeper', 'customization', 'major', 'focus', 'time', 'around', 'able', 'choose', 'variety', 'lock', 'screen', 'template', 'way', 'customize', 'wallpaper', 'thanks', 'addition', 'generative', 'ai', 'capability', 'select', 'text', 'prompt', 'ai', 'whip', 'related', 'image', 'continue_reading', 'place', 'edit', 'interact', 'customizable', 'widget', 'macos', 'sonoma', 'hyundai', 'reach', 'deal', 'adopt', 'tesla', 'nac', 'charge', 'standard', 'north', 'america', 'start', 'canada', 'follow', 'first', 'half', 'amazon', 'sale', 'apple', 'watch', 'series', 'thanks', 'coupon', 'low', 'price', 'see', 'date', 'samsung', 'unveiled', 'smarttag', 'airtag', 'like', 'track', 'device', 'successor', 'original', 'smarttag', 'release', 'amazon', 'launch', 'first', 'two', 'project', 'kuiper', 'satellite', 'protoflight', 'mission', 'website', 'formerly', 'know', 'twitter', 'start', 'remove', 'headline', 'snippet', 'post', 'link', 'implement', 'change', 'fortune', 'report', 'august', 'amazon', 'shut', 'short', 'live', 'audio', 'app', 'know', 'amp', 'tool', 'design', 'allow', 'creator', 'make', 'custom', 'content', 'modern', 'dj', 'host', 'patreon', 'announce', 'slew', 'change', 'platform', 'today', 'prominent', 'much', 'easy', 'non', 'pay', 'user', 'access', 'platform', 'rockstar', 'snuck', 'update', 'port', 'red', 'dead', 'redemption', 'run', 'fps', 'played', 'backward', 'compatibility', 'mode', 'apple', 'release', 'fix', 'issue', 'cause', 'iphone', 'device', 'overheat', 'case', 'install', 'late', 'io', 'update', 'uber', 'announce', 'new', 'feature', 'dubbed', 'return', 'package', 'customer', 'courier', 'pick', 'package', 'drop', 'local', 'post', 'office', 'ups', 'fedex', 'google', 'reveal', 'pixel_pixel_pro', 'along', 'pixel', 'watch', 'meanwhile', 'android', 'today', 'catch', 'news', 'make', 'google', 'event', 'google', 'announce', 'assistant', 'bard', 'new', 'version', 'personal', 'assistant', 'tap', 'generative', 'ai', 'google', 'hardware_event', 'also', 'reveal', 'software', 'enhancement', 'massive', 'ai', 'enhance', 'photo', 'edit', 'tool', 'magic', 'eraser', 'handle', 'audio', 'video', 'google', 'officially', 'announce', 'pixel', 'wednesday', 'make', 'google', 'event', 'spec', 'stack', 'competitor', 'wearable', 'space', 'make', 'google', 'event', 'new', 'york', 'company', 'announce', 'new', 'generative', 'ai', 'feature', 'make', 'available', 'fitbit', 'app', 'later', 'next', 'year', 'new', 'google', 'pixel_pro', 'compare', 'apple', 'iphone', 'pro', 'max', 'samsung_galaxy', 'ultra', 'spec', 'sheet', 'new', 'google', 'pixel', 'compare', 'two', 'close', 'rival', 'apple', 'iphone', 'samsung_galaxy', 'paper', 'pre', 'order', 'google', 'late', 'pixel', 'smartphones', 'new', 'pixel', 'watch', 'new', 'pixel', 'earbuds', 'luxury', 'designer', 'work', 'closely', 'axiom', 'space', 'subscribe', 'two', 'newsletter', 'weekly', 'roundup', 'favorite', 'tech', 'deal', 'daily', 'dose', 'news', 'need', 'please', 'enter', 'valid', 'email_address', 'please', 'select', 'newsletter', 'subscribe', 'agree', 'engadget', 'term', 'privacy_policy']\n"
     ]
    }
   ],
   "source": [
    "# Build the bigram and trigram models\n",
    "bigram = gensim.models.Phrases(data_words, min_count=5, threshold=100) # higher threshold fewer phrases.\n",
    "trigram = gensim.models.Phrases(bigram[data_words], threshold=100)  \n",
    "\n",
    "# Faster way to get a sentence clubbed as a trigram/bigram\n",
    "bigram_mod = gensim.models.phrases.Phraser(bigram)\n",
    "trigram_mod = gensim.models.phrases.Phraser(trigram)\n",
    "\n",
    "# See trigram example\n",
    "print(trigram_mod[bigram_mod[data_words[0]]])"
   ]
  },
  {
   "cell_type": "code",
   "execution_count": 14,
   "id": "307db5d0",
   "metadata": {},
   "outputs": [],
   "source": [
    "# Define functions for stopwords, bigrams, trigrams and lemmatization\n",
    "def remove_stopwords(texts):\n",
    "    return [[word for word in simple_preprocess(str(doc)) if word not in stop_words] for doc in texts]\n",
    "\n",
    "def make_bigrams(texts):\n",
    "    return [bigram_mod[doc] for doc in texts]\n",
    "\n",
    "def make_trigrams(texts):\n",
    "    return [trigram_mod[bigram_mod[doc]] for doc in texts]\n",
    "\n",
    "def lemmatization(texts, allowed_postags=['NOUN', 'ADJ', 'VERB', 'ADV']):\n",
    "    \"\"\"https://spacy.io/api/annotation\"\"\"\n",
    "    texts_out = []\n",
    "    for sent in texts:\n",
    "        doc = nlp(\" \".join(sent)) \n",
    "        texts_out.append([token.lemma_ for token in doc if token.pos_ in allowed_postags])\n",
    "    return texts_out"
   ]
  },
  {
   "cell_type": "code",
   "execution_count": 15,
   "id": "44cd8c60",
   "metadata": {},
   "outputs": [],
   "source": [
    "# NLTK Stop words\n",
    "from nltk.corpus import stopwords\n",
    "stop_words = stopwords.words('english')\n",
    "stop_words.extend(['from','ai','bard', 'subject', 're', 'edu', 'use','U.S.','also','research','time','much','scientist','researcher','say','year','well','due','per_cent','percent','author','per _cent'])"
   ]
  },
  {
   "cell_type": "code",
   "execution_count": 16,
   "id": "1ab37e06",
   "metadata": {},
   "outputs": [],
   "source": [
    "# Remove Stop Words\n",
    "data_words_nostops = remove_stopwords(data_words)\n",
    "\n",
    "# Form Bigrams\n",
    "data_words_bigrams = make_bigrams(data_words_nostops)\n",
    "\n",
    "# Initialize spacy 'en' model, keeping only tagger component (for efficiency)\n",
    "# python3 -m spacy download en\n",
    "nlp = spacy.load('en_core_web_sm', disable=['parser', 'ner'])\n",
    "\n",
    "# Do lemmatization keeping only noun, adj, vb, adv\n",
    "data_lemmatized = lemmatization(data_words_bigrams, allowed_postags=['NOUN', 'ADJ', 'VERB', 'ADV'])\n",
    "\n",
    "#print(data_lemmatized[:1])\n",
    "#df=pd.DataFrame(data_lemmatized)\n",
    "#df.to_csv('processed_data.csv')"
   ]
  },
  {
   "cell_type": "code",
   "execution_count": 17,
   "id": "2fb358ce",
   "metadata": {},
   "outputs": [
    {
     "name": "stdout",
     "output_type": "stream",
     "text": [
      "[[(0, 4), (1, 3), (2, 1), (3, 2), (4, 1), (5, 1), (6, 2), (7, 1), (8, 1), (9, 1), (10, 2), (11, 2), (12, 1), (13, 4), (14, 1), (15, 3), (16, 1), (17, 5), (18, 1), (19, 1), (20, 4), (21, 2), (22, 1), (23, 1), (24, 1), (25, 1), (26, 1), (27, 1), (28, 1), (29, 2), (30, 1), (31, 1), (32, 1), (33, 1), (34, 1), (35, 1), (36, 1), (37, 2), (38, 1), (39, 2), (40, 1), (41, 1), (42, 1), (43, 1), (44, 1), (45, 2), (46, 1), (47, 3), (48, 2), (49, 1), (50, 1), (51, 4), (52, 1), (53, 4), (54, 1), (55, 1), (56, 1), (57, 1), (58, 1), (59, 3), (60, 1), (61, 1), (62, 1), (63, 1), (64, 1), (65, 2), (66, 1), (67, 1), (68, 1), (69, 1), (70, 1), (71, 1), (72, 1), (73, 3), (74, 1), (75, 1), (76, 2), (77, 1), (78, 1), (79, 1), (80, 1), (81, 1), (82, 1), (83, 2), (84, 2), (85, 1), (86, 1), (87, 1), (88, 1), (89, 1), (90, 1), (91, 1), (92, 3), (93, 1), (94, 1), (95, 1), (96, 1), (97, 2), (98, 2), (99, 1), (100, 1), (101, 1), (102, 3), (103, 1), (104, 2), (105, 2), (106, 2), (107, 2), (108, 1), (109, 1), (110, 1), (111, 2), (112, 1), (113, 3), (114, 4), (115, 1), (116, 1), (117, 1), (118, 1), (119, 1), (120, 2), (121, 1), (122, 1), (123, 1), (124, 1), (125, 1), (126, 1), (127, 1), (128, 1), (129, 1), (130, 1), (131, 1), (132, 1), (133, 1), (134, 1), (135, 1), (136, 1), (137, 4), (138, 2), (139, 1), (140, 1), (141, 1), (142, 2), (143, 1), (144, 1), (145, 1), (146, 1), (147, 2), (148, 2), (149, 1), (150, 1), (151, 1), (152, 1), (153, 1), (154, 1), (155, 1), (156, 1), (157, 2), (158, 1), (159, 1), (160, 1), (161, 1), (162, 1), (163, 6), (164, 1), (165, 1), (166, 1), (167, 1), (168, 1), (169, 1), (170, 2), (171, 1), (172, 1), (173, 1), (174, 1), (175, 2), (176, 1), (177, 1), (178, 1), (179, 11), (180, 2), (181, 3), (182, 2), (183, 1), (184, 2), (185, 1), (186, 1), (187, 1), (188, 2), (189, 1), (190, 1), (191, 1), (192, 1), (193, 1), (194, 1), (195, 2), (196, 2), (197, 1), (198, 1), (199, 2), (200, 2), (201, 1), (202, 1), (203, 1), (204, 2), (205, 1), (206, 1), (207, 2), (208, 1), (209, 2), (210, 3), (211, 1), (212, 1), (213, 1), (214, 1), (215, 1), (216, 1), (217, 2), (218, 1), (219, 1), (220, 2), (221, 1), (222, 1), (223, 1), (224, 1), (225, 1), (226, 1), (227, 2), (228, 1), (229, 1), (230, 1), (231, 1), (232, 1), (233, 1), (234, 1), (235, 1), (236, 1), (237, 1), (238, 1), (239, 3), (240, 1), (241, 2), (242, 1), (243, 1), (244, 1), (245, 1), (246, 1), (247, 1), (248, 1), (249, 1), (250, 1), (251, 1), (252, 1), (253, 1), (254, 1), (255, 1), (256, 3), (257, 1), (258, 2), (259, 3), (260, 1), (261, 1), (262, 1), (263, 1), (264, 1), (265, 1), (266, 1), (267, 2), (268, 1), (269, 2), (270, 1), (271, 1), (272, 1), (273, 1), (274, 1), (275, 1), (276, 2), (277, 2), (278, 1), (279, 1), (280, 4), (281, 1), (282, 1), (283, 1), (284, 1), (285, 1), (286, 1), (287, 3), (288, 2), (289, 1), (290, 1), (291, 4), (292, 1), (293, 1), (294, 1), (295, 1), (296, 2), (297, 1), (298, 1), (299, 2), (300, 1), (301, 3), (302, 1), (303, 2), (304, 1), (305, 1), (306, 1), (307, 1), (308, 1), (309, 6), (310, 2), (311, 2), (312, 1), (313, 1), (314, 2), (315, 4), (316, 1), (317, 1), (318, 4), (319, 2), (320, 1), (321, 1), (322, 1), (323, 2), (324, 1), (325, 2)]]\n"
     ]
    }
   ],
   "source": [
    "# Create Dictionary\n",
    "id2word = corpora.Dictionary(data_lemmatized)\n",
    "\n",
    "# Create Corpus\n",
    "texts = data_lemmatized\n",
    "\n",
    "# Term Document Frequency\n",
    "corpus = [id2word.doc2bow(text) for text in texts]\n",
    "\n",
    "# View\n",
    "print(corpus[:1])"
   ]
  },
  {
   "cell_type": "code",
   "execution_count": 18,
   "id": "6c218062",
   "metadata": {
    "scrolled": true
   },
   "outputs": [
    {
     "data": {
      "text/plain": [
       "[[('able', 4),\n",
       "  ('access', 3),\n",
       "  ('addition', 1),\n",
       "  ('address', 2),\n",
       "  ('adopt', 1),\n",
       "  ('agree', 1),\n",
       "  ('airbnb', 2),\n",
       "  ('airtag', 1),\n",
       "  ('allow', 1),\n",
       "  ('already', 1),\n",
       "  ('amazon', 2),\n",
       "  ('android', 2),\n",
       "  ('android_io', 1),\n",
       "  ('announce', 4),\n",
       "  ('announcement', 1),\n",
       "  ('app', 3),\n",
       "  ('apparently', 1),\n",
       "  ('apple', 5),\n",
       "  ('approval', 1),\n",
       "  ('ask', 1),\n",
       "  ('assistant', 4),\n",
       "  ('audio', 2),\n",
       "  ('available', 1),\n",
       "  ('backward', 1),\n",
       "  ('battery', 1),\n",
       "  ('believe', 1),\n",
       "  ('big', 1),\n",
       "  ('bit', 1),\n",
       "  ('body', 1),\n",
       "  ('book', 2),\n",
       "  ('build', 1),\n",
       "  ('business', 1),\n",
       "  ('camera', 1),\n",
       "  ('capability', 1),\n",
       "  ('case', 1),\n",
       "  ('catch', 1),\n",
       "  ('cause', 1),\n",
       "  ('change', 2),\n",
       "  ('chat', 1),\n",
       "  ('chesky', 2),\n",
       "  ('chief', 1),\n",
       "  ('choose', 1),\n",
       "  ('click', 1),\n",
       "  ('close', 1),\n",
       "  ('closely', 1),\n",
       "  ('come', 2),\n",
       "  ('commerce', 1),\n",
       "  ('company', 3),\n",
       "  ('compare', 2),\n",
       "  ('compatibility', 1),\n",
       "  ('competitor', 1),\n",
       "  ('content', 4),\n",
       "  ('context', 1),\n",
       "  ('continue_reade', 4),\n",
       "  ('core', 1),\n",
       "  ('cost', 1),\n",
       "  ('couple', 1),\n",
       "  ('coupon', 1),\n",
       "  ('courier', 1),\n",
       "  ('creator', 3),\n",
       "  ('currently', 1),\n",
       "  ('custom', 1),\n",
       "  ('customer', 1),\n",
       "  ('customization', 1),\n",
       "  ('customize', 1),\n",
       "  ('date', 2),\n",
       "  ('day', 1),\n",
       "  ('dead', 1),\n",
       "  ('deal', 1),\n",
       "  ('deep', 1),\n",
       "  ('design', 1),\n",
       "  ('designer', 1),\n",
       "  ('detail', 1),\n",
       "  ('device', 3),\n",
       "  ('difference', 1),\n",
       "  ('different', 1),\n",
       "  ('direction', 2),\n",
       "  ('download', 1),\n",
       "  ('downloadable', 1),\n",
       "  ('drop', 1),\n",
       "  ('drum', 1),\n",
       "  ('dub', 1),\n",
       "  ('early', 1),\n",
       "  ('easy', 2),\n",
       "  ('edit', 2),\n",
       "  ('email', 1),\n",
       "  ('enable', 1),\n",
       "  ('engadget', 1),\n",
       "  ('enhance', 1),\n",
       "  ('enhancement', 1),\n",
       "  ('enter', 1),\n",
       "  ('eraser', 1),\n",
       "  ('event', 3),\n",
       "  ('ever', 1),\n",
       "  ('executive', 1),\n",
       "  ('expand', 1),\n",
       "  ('export', 1),\n",
       "  ('favorite', 2),\n",
       "  ('feature', 2),\n",
       "  ('file', 1),\n",
       "  ('financial', 1),\n",
       "  ('finish', 1),\n",
       "  ('first', 3),\n",
       "  ('fitbit', 1),\n",
       "  ('fix', 2),\n",
       "  ('flagship', 2),\n",
       "  ('focus', 2),\n",
       "  ('follow', 2),\n",
       "  ('formerly', 1),\n",
       "  ('fortune', 1),\n",
       "  ('fps', 1),\n",
       "  ('free', 2),\n",
       "  ('fuse', 1),\n",
       "  ('generative', 3),\n",
       "  ('get', 4),\n",
       "  ('gmail', 1),\n",
       "  ('go', 1),\n",
       "  ('grocery_list', 1),\n",
       "  ('gross', 1),\n",
       "  ('half', 1),\n",
       "  ('hand', 2),\n",
       "  ('handle', 1),\n",
       "  ('hang', 1),\n",
       "  ('headline', 1),\n",
       "  ('hide', 1),\n",
       "  ('host', 1),\n",
       "  ('image', 1),\n",
       "  ('implement', 1),\n",
       "  ('inch', 1),\n",
       "  ('include', 1),\n",
       "  ('increase', 1),\n",
       "  ('individual', 1),\n",
       "  ('install', 1),\n",
       "  ('integrate', 1),\n",
       "  ('interest', 1),\n",
       "  ('intrigue', 1),\n",
       "  ('invite', 1),\n",
       "  ('iphone', 4),\n",
       "  ('issue', 2),\n",
       "  ('join', 1),\n",
       "  ('key', 1),\n",
       "  ('keyboard', 1),\n",
       "  ('know', 2),\n",
       "  ('kuiper', 1),\n",
       "  ('land', 1),\n",
       "  ('largely', 1),\n",
       "  ('late', 1),\n",
       "  ('later', 2),\n",
       "  ('launch', 2),\n",
       "  ('leak', 1),\n",
       "  ('let', 1),\n",
       "  ('link', 1),\n",
       "  ('little', 1),\n",
       "  ('live', 1),\n",
       "  ('local', 1),\n",
       "  ('location', 1),\n",
       "  ('lock', 1),\n",
       "  ('long', 2),\n",
       "  ('look', 1),\n",
       "  ('lot', 1),\n",
       "  ('low', 1),\n",
       "  ('magic', 1),\n",
       "  ('major', 1),\n",
       "  ('make', 6),\n",
       "  ('maker', 1),\n",
       "  ('map', 1),\n",
       "  ('massive', 1),\n",
       "  ('matte', 1),\n",
       "  ('max', 1),\n",
       "  ('meal', 1),\n",
       "  ('meanwhile', 2),\n",
       "  ('measure', 1),\n",
       "  ('member', 1),\n",
       "  ('mission', 1),\n",
       "  ('mode', 1),\n",
       "  ('model', 2),\n",
       "  ('modern', 1),\n",
       "  ('monthly', 1),\n",
       "  ('need', 1),\n",
       "  ('new', 11),\n",
       "  ('news', 2),\n",
       "  ('newsletter', 3),\n",
       "  ('next', 2),\n",
       "  ('night', 1),\n",
       "  ('non', 2),\n",
       "  ('notably', 1),\n",
       "  ('note', 1),\n",
       "  ('object', 1),\n",
       "  ('offer', 2),\n",
       "  ('office', 1),\n",
       "  ('officially', 1),\n",
       "  ('operating_system', 1),\n",
       "  ('optionally', 1),\n",
       "  ('order', 1),\n",
       "  ('original', 1),\n",
       "  ('overheat', 2),\n",
       "  ('package', 2),\n",
       "  ('paper', 1),\n",
       "  ('party', 1),\n",
       "  ('patreon', 2),\n",
       "  ('pay', 2),\n",
       "  ('paywall', 1),\n",
       "  ('people', 1),\n",
       "  ('personal', 1),\n",
       "  ('photo', 2),\n",
       "  ('pick', 1),\n",
       "  ('piece', 1),\n",
       "  ('pixel_pro', 2),\n",
       "  ('place', 1),\n",
       "  ('plan', 2),\n",
       "  ('platform', 3),\n",
       "  ('play', 1),\n",
       "  ('podcast', 1),\n",
       "  ('port', 1),\n",
       "  ('post', 1),\n",
       "  ('power', 1),\n",
       "  ('pre', 1),\n",
       "  ('predecessor', 2),\n",
       "  ('price', 1),\n",
       "  ('privacy_policy', 1),\n",
       "  ('pro', 2),\n",
       "  ('process', 1),\n",
       "  ('processor', 1),\n",
       "  ('project', 1),\n",
       "  ('prominent', 1),\n",
       "  ('prompt', 1),\n",
       "  ('protoflight', 1),\n",
       "  ('pull', 2),\n",
       "  ('push', 1),\n",
       "  ('quarter', 1),\n",
       "  ('quick', 1),\n",
       "  ('read', 1),\n",
       "  ('reading', 1),\n",
       "  ('rebrande', 1),\n",
       "  ('record', 1),\n",
       "  ('red', 1),\n",
       "  ('redemption', 1),\n",
       "  ('regular', 1),\n",
       "  ('related', 1),\n",
       "  ('release', 3),\n",
       "  ('remove', 1),\n",
       "  ('rental', 2),\n",
       "  ('report', 1),\n",
       "  ('return', 1),\n",
       "  ('reveal', 1),\n",
       "  ('rival', 1),\n",
       "  ('rockstar', 1),\n",
       "  ('roundup', 1),\n",
       "  ('run', 1),\n",
       "  ('sale', 1),\n",
       "  ('samsung_galaxy', 1),\n",
       "  ('satellite', 1),\n",
       "  ('screen', 1),\n",
       "  ('second', 1),\n",
       "  ('security', 1),\n",
       "  ('see', 1),\n",
       "  ('select', 3),\n",
       "  ('sell', 1),\n",
       "  ('sensor', 2),\n",
       "  ('series', 3),\n",
       "  ('service', 1),\n",
       "  ('share', 1),\n",
       "  ('sheet', 1),\n",
       "  ('short', 1),\n",
       "  ('shut', 1),\n",
       "  ('signup', 1),\n",
       "  ('slightly', 1),\n",
       "  ('small', 2),\n",
       "  ('smartphone', 1),\n",
       "  ('smarttag', 2),\n",
       "  ('snippet', 1),\n",
       "  ('snuck', 1),\n",
       "  ('software', 1),\n",
       "  ('soon', 1),\n",
       "  ('sort', 1),\n",
       "  ('sound', 1),\n",
       "  ('space', 2),\n",
       "  ('spec', 2),\n",
       "  ('stack', 1),\n",
       "  ('stale', 1),\n",
       "  ('start', 4),\n",
       "  ('stay', 1),\n",
       "  ('subscribe', 1),\n",
       "  ('successor', 1),\n",
       "  ('support', 1),\n",
       "  ('supporter', 1),\n",
       "  ('surprise', 1),\n",
       "  ('take', 3),\n",
       "  ('tap', 2),\n",
       "  ('tech', 1),\n",
       "  ('tell', 1),\n",
       "  ('temperature', 4),\n",
       "  ('template', 1),\n",
       "  ('tensor', 1),\n",
       "  ('term', 1),\n",
       "  ('text', 1),\n",
       "  ('thank', 2),\n",
       "  ('thing', 1),\n",
       "  ('tire', 1),\n",
       "  ('today', 2),\n",
       "  ('together', 1),\n",
       "  ('tool', 3),\n",
       "  ('track', 1),\n",
       "  ('try', 2),\n",
       "  ('twitter', 1),\n",
       "  ('type', 1),\n",
       "  ('ultra', 1),\n",
       "  ('unveil', 1),\n",
       "  ('up', 1),\n",
       "  ('update', 6),\n",
       "  ('upgrade', 2),\n",
       "  ('user', 2),\n",
       "  ('valid', 1),\n",
       "  ('variety', 1),\n",
       "  ('version', 2),\n",
       "  ('video', 4),\n",
       "  ('wallpaper', 1),\n",
       "  ('want', 1),\n",
       "  ('watch', 4),\n",
       "  ('way', 2),\n",
       "  ('wearable', 1),\n",
       "  ('website', 1),\n",
       "  ('weekly', 1),\n",
       "  ('whip', 2),\n",
       "  ('wide_range', 1),\n",
       "  ('work', 2)]]"
      ]
     },
     "execution_count": 18,
     "metadata": {},
     "output_type": "execute_result"
    }
   ],
   "source": [
    "[[(id2word[id], freq) for id, freq in cp] for cp in corpus[:1]]"
   ]
  },
  {
   "cell_type": "code",
   "execution_count": 19,
   "id": "e743a82a",
   "metadata": {},
   "outputs": [],
   "source": [
    "Lda=  gensim.models.ldamodel.LdaModel\n",
    "lda_model=Lda(corpus, num_topics=4, id2word=id2word, passes=1, random_state=0, eval_every=None)"
   ]
  },
  {
   "cell_type": "code",
   "execution_count": 20,
   "id": "b76f0176",
   "metadata": {},
   "outputs": [
    {
     "name": "stdout",
     "output_type": "stream",
     "text": [
      "[(0,\n",
      "  '0.009*\"good\" + 0.008*\"user\" + 0.008*\"new\" + 0.007*\"make\" + '\n",
      "  '0.007*\"assistant\" + 0.005*\"response\" + 0.005*\"company\" + 0.005*\"get\" + '\n",
      "  '0.005*\"product\" + 0.005*\"chatgpt\"'),\n",
      " (1,\n",
      "  '0.007*\"chatbot\" + 0.007*\"assistant\" + 0.007*\"company\" + 0.006*\"ask\" + '\n",
      "  '0.006*\"information\" + 0.006*\"chatgpt\" + 0.006*\"new\" + 0.006*\"make\" + '\n",
      "  '0.006*\"user\" + 0.005*\"response\"'),\n",
      " (2,\n",
      "  '0.007*\"make\" + 0.007*\"ask\" + 0.006*\"company\" + 0.006*\"user\" + 0.006*\"new\" + '\n",
      "  '0.005*\"chatgpt\" + 0.005*\"chatbot\" + 0.005*\"product\" + 0.005*\"response\" + '\n",
      "  '0.005*\"good\"'),\n",
      " (3,\n",
      "  '0.007*\"good\" + 0.007*\"company\" + 0.006*\"user\" + 0.006*\"get\" + 0.006*\"ask\" + '\n",
      "  '0.006*\"help\" + 0.005*\"chatgpt\" + 0.005*\"new\" + 0.005*\"make\" + '\n",
      "  '0.005*\"image\"')]\n"
     ]
    }
   ],
   "source": [
    "# Print the Keyword in the 'n' topics\n",
    "pprint(lda_model.print_topics())\n",
    "doc_lda = lda_model[corpus]"
   ]
  },
  {
   "cell_type": "code",
   "execution_count": 21,
   "id": "e1aa6e1d",
   "metadata": {},
   "outputs": [
    {
     "name": "stdout",
     "output_type": "stream",
     "text": [
      "doc:  0 [(0, 0.99832183)]\n",
      "doc:  1 [(1, 0.15727864), (2, 0.840779)]\n",
      "doc:  2 [(1, 0.99256665)]\n",
      "doc:  3 [(1, 0.018555766), (2, 0.29918647), (3, 0.680771)]\n",
      "doc:  4 [(1, 0.9791035)]\n",
      "doc:  5 [(0, 0.034588926), (1, 0.6338281), (2, 0.2761967), (3, 0.05538633)]\n",
      "doc:  6 [(0, 0.98673004), (2, 0.011596099)]\n",
      "doc:  7 [(1, 0.9948956)]\n",
      "doc:  8 [(0, 0.34153563), (1, 0.65520424)]\n",
      "doc:  9 [(1, 0.033988327), (2, 0.67613083), (3, 0.28906035)]\n",
      "doc:  10 [(1, 0.99073035)]\n",
      "doc:  11 [(0, 0.04101396), (3, 0.9568616)]\n",
      "doc:  12 [(1, 0.36200938), (3, 0.6326822)]\n",
      "doc:  13 [(1, 0.9982525)]\n",
      "doc:  14 [(1, 0.45733908), (2, 0.5146783), (3, 0.026769157)]\n",
      "doc:  15 [(0, 0.1267263), (1, 0.38799357), (2, 0.3856258), (3, 0.099654324)]\n",
      "doc:  16 [(1, 0.9961923)]\n",
      "doc:  17 [(2, 0.99568176)]\n",
      "doc:  18 [(1, 0.9957909)]\n",
      "doc:  19 [(0, 0.9975295)]\n",
      "doc:  20 [(2, 0.9961562)]\n",
      "doc:  21 [(1, 0.15380298), (2, 0.8434019)]\n",
      "doc:  22 [(1, 0.32966775), (2, 0.15597004), (3, 0.5133228)]\n",
      "doc:  23 [(3, 0.99677575)]\n",
      "doc:  24 [(0, 0.031094804), (1, 0.6577539), (2, 0.30955824)]\n",
      "doc:  25 [(1, 0.018271662), (2, 0.9809376)]\n",
      "doc:  26 [(3, 0.9975387)]\n",
      "doc:  27 [(0, 0.9950585)]\n",
      "doc:  28 [(0, 0.09140899), (1, 0.90371126)]\n",
      "doc:  29 [(0, 0.9946087)]\n",
      "doc:  30 [(0, 0.018091923), (1, 0.029348508), (3, 0.95214736)]\n",
      "doc:  31 [(0, 0.040310565), (3, 0.9587481)]\n",
      "doc:  32 [(1, 0.9805484), (2, 0.01882543)]\n",
      "doc:  33 [(0, 0.18501943), (3, 0.81388307)]\n",
      "doc:  34 [(1, 0.26853588), (3, 0.7264494)]\n",
      "doc:  35 [(1, 0.9994373)]\n",
      "doc:  36 [(2, 0.16747566), (3, 0.831646)]\n",
      "doc:  37 [(1, 0.9968015)]\n",
      "doc:  38 [(0, 0.011305612), (1, 0.021707399), (2, 0.6983801), (3, 0.26860687)]\n",
      "doc:  39 [(0, 0.029140688), (1, 0.029146556), (2, 0.91276133), (3, 0.028951434)]\n",
      "doc:  40 [(2, 0.66114914), (3, 0.33555084)]\n",
      "doc:  41 [(1, 0.9925629)]\n",
      "doc:  42 [(1, 0.17986701), (2, 0.062065423), (3, 0.755636)]\n",
      "doc:  43 [(0, 0.010120583), (1, 0.010237205), (2, 0.96948016), (3, 0.010162035)]\n",
      "doc:  44 [(0, 0.21861008), (1, 0.77829677)]\n",
      "doc:  45 [(0, 0.31908712), (1, 0.6023302), (2, 0.077580184)]\n",
      "doc:  46 [(0, 0.9977362)]\n",
      "doc:  47 [(1, 0.99553823)]\n",
      "doc:  48 [(0, 0.998322)]\n",
      "doc:  49 [(1, 0.016741436), (2, 0.26599535), (3, 0.7166299)]\n",
      "doc:  50 [(0, 0.35590583), (1, 0.6400218)]\n",
      "doc:  51 [(1, 0.72635627), (2, 0.27243653)]\n",
      "doc:  52 [(2, 0.9949742)]\n",
      "doc:  53 [(1, 0.123990744), (2, 0.8740668)]\n",
      "doc:  54 [(0, 0.024439825), (1, 0.6597511), (2, 0.25976127), (3, 0.05604777)]\n",
      "doc:  55 [(0, 0.04723101), (3, 0.9506446)]\n",
      "doc:  56 [(2, 0.9977661)]\n",
      "doc:  57 [(1, 0.998253)]\n",
      "doc:  58 [(3, 0.99677575)]\n",
      "doc:  59 [(1, 0.3694539), (3, 0.6252378)]\n",
      "doc:  60 [(1, 0.998039)]\n",
      "doc:  61 [(2, 0.9297294), (3, 0.06889896)]\n",
      "doc:  62 [(2, 0.0657297), (3, 0.93244517)]\n",
      "doc:  63 [(0, 0.57643145), (1, 0.41871163)]\n",
      "doc:  64 [(1, 0.86791515), (2, 0.12981518)]\n",
      "doc:  65 [(1, 0.89423555), (2, 0.09737523)]\n",
      "doc:  66 [(0, 0.25), (1, 0.25), (2, 0.25), (3, 0.25)]\n",
      "doc:  67 [(1, 0.040575303), (2, 0.95865476)]\n",
      "doc:  68 [(0, 0.012249371), (1, 0.024778213), (3, 0.9625602)]\n",
      "doc:  69 [(1, 0.9599393), (2, 0.03608498)]\n",
      "doc:  70 [(0, 0.98931456)]\n",
      "doc:  71 [(0, 0.84197575), (1, 0.15336153)]\n",
      "doc:  72 [(1, 0.9586767), (2, 0.03893222)]\n",
      "doc:  73 [(1, 0.9994371)]\n",
      "doc:  74 [(1, 0.99073213)]\n",
      "doc:  75 [(3, 0.99727684)]\n",
      "doc:  76 [(1, 0.9706446), (2, 0.028729286)]\n",
      "doc:  77 [(0, 0.9913885)]\n",
      "doc:  78 [(1, 0.26969677), (3, 0.724897)]\n",
      "doc:  79 [(2, 0.9471235), (3, 0.051316)]\n",
      "doc:  80 [(1, 0.9973991)]\n",
      "doc:  81 [(1, 0.99214184)]\n",
      "doc:  82 [(0, 0.9910031)]\n",
      "doc:  83 [(1, 0.012513457), (2, 0.73749685), (3, 0.24232163)]\n"
     ]
    }
   ],
   "source": [
    "count=0\n",
    "for i in lda_model[corpus]:\n",
    "    print(\"doc: \", count, i)\n",
    "    count=count+1"
   ]
  },
  {
   "cell_type": "code",
   "execution_count": 22,
   "id": "a3ee8610",
   "metadata": {
    "scrolled": true
   },
   "outputs": [
    {
     "name": "stdout",
     "output_type": "stream",
     "text": [
      "\n",
      "Perplexity:  -7.797172262485107\n",
      "\n",
      "Coherence Score:  0.32770226660401525\n"
     ]
    }
   ],
   "source": [
    "# Compute Perplexity\n",
    "print('\\nPerplexity: ', lda_model.log_perplexity(corpus))  # a measure of how good the model is. lower the better.\n",
    "\n",
    "# Compute Coherence Score\n",
    "coherence_model_lda = CoherenceModel(model=lda_model, texts=data_lemmatized, dictionary=id2word, coherence='c_v')\n",
    "coherence_lda = coherence_model_lda.get_coherence()\n",
    "print('\\nCoherence Score: ', coherence_lda)"
   ]
  },
  {
   "cell_type": "code",
   "execution_count": 23,
   "id": "44012fad",
   "metadata": {},
   "outputs": [],
   "source": [
    "# Visualize the topics\n",
    "%matplotlib inline\n",
    "import pyLDAvis.gensim_models\n",
    "pyLDAvis.enable_notebook()\n",
    "vis = pyLDAvis.gensim_models.prepare(lda_model, corpus, id2word)\n",
    "vis\n",
    "#p = pyLDAvis.gensim.prepare(topic_model, corpus, dictionary)\n",
    "pyLDAvis.save_html(vis, 'chatgpt_tm.html')\n",
    "#The larger the bubble, the more frequent is the topic in the documents"
   ]
  },
  {
   "cell_type": "code",
   "execution_count": 24,
   "id": "d51f4beb",
   "metadata": {},
   "outputs": [
    {
     "data": {
      "image/png": "[encoded data removed]",
      "text/plain": [
       "<Figure size 1000x1000 with 4 Axes>"
      ]
     },
     "metadata": {},
     "output_type": "display_data"
    }
   ],
   "source": [
    "from matplotlib import pyplot as plt\n",
    "from wordcloud import WordCloud, STOPWORDS\n",
    "import matplotlib.colors as mcolors\n",
    "\n",
    "cols = [color for name, color in mcolors.TABLEAU_COLORS.items()]  # more colors: 'mcolors.XKCD_COLORS'\n",
    "\n",
    "cloud = WordCloud(stopwords=stop_words,\n",
    "                  background_color='white',\n",
    "                  width=2500,\n",
    "                  height=1800,\n",
    "                  max_words=10,\n",
    "                  colormap='tab10',\n",
    "                  color_func=lambda *args, **kwargs: cols[i],\n",
    "                  prefer_horizontal=1.0)\n",
    "\n",
    "topics = lda_model.show_topics(formatted=False)\n",
    "\n",
    "fig, axes = plt.subplots(1, 4, figsize=(10,10), sharex=True, sharey=True)\n",
    "\n",
    "for i, ax in enumerate(axes.flatten()):\n",
    "    fig.add_subplot(ax)\n",
    "    topic_words = dict(topics[i][1])\n",
    "    cloud.generate_from_frequencies(topic_words, max_font_size=300)\n",
    "    plt.gca().imshow(cloud)\n",
    "    plt.gca().set_title('Topic ' + str(i), fontdict=dict(size=16))\n",
    "    plt.gca().axis('off')\n",
    "\n",
    "\n",
    "plt.subplots_adjust(wspace=0, hspace=0)\n",
    "plt.axis('off')\n",
    "plt.margins(x=0, y=0)\n",
    "plt.tight_layout()\n",
    "plt.show()"
   ]
  },
  {
   "cell_type": "code",
   "execution_count": 25,
   "id": "09b5fab1",
   "metadata": {},
   "outputs": [],
   "source": [
    "# Code to find the optimal number of topics\n",
    "def compute_coherence_values(dictionary, corpus, texts, start=2,limit=10, step=1):\n",
    "    \"\"\"\n",
    "    Compute c_v coherence for various number of topics\n",
    "\n",
    "    Parameters:\n",
    "    ----------\n",
    "    dictionary : Gensim dictionary\n",
    "    corpus : Gensim corpus\n",
    "    texts : List of input texts\n",
    "    limit : Max num of topics\n",
    "\n",
    "    Returns:\n",
    "    -------\n",
    "    model_list : List of LDA topic models\n",
    "    coherence_values : Coherence values corresponding to the LDA model with respective number of topics\n",
    "    \"\"\"\n",
    "    coherence_values = []\n",
    "    model_list = []\n",
    "    for num_topics in range(start, limit, step):\n",
    "        model = gensim.models.ldamodel.LdaModel(corpus=corpus, num_topics=num_topics, id2word=dictionary)\n",
    "        model_list.append(model)\n",
    "        coherencemodel = CoherenceModel(model=model, texts=texts, dictionary=dictionary, coherence='c_v')\n",
    "        coherence_values.append(coherencemodel.get_coherence())\n",
    "\n",
    "    return model_list, coherence_values"
   ]
  },
  {
   "cell_type": "code",
   "execution_count": 26,
   "id": "88d6f0cf",
   "metadata": {},
   "outputs": [],
   "source": [
    "model_list, coherence_values = compute_coherence_values(dictionary=id2word, corpus=corpus, texts=data_lemmatized, start=2, limit=10, step=1)"
   ]
  },
  {
   "cell_type": "code",
   "execution_count": 27,
   "id": "0446b09e",
   "metadata": {},
   "outputs": [
    {
     "data": {
      "image/png": "[encoded data removed]",
      "text/plain": [
       "<Figure size 640x480 with 1 Axes>"
      ]
     },
     "metadata": {},
     "output_type": "display_data"
    }
   ],
   "source": [
    "# Show graph\n",
    "limit=10; start=2; step=1;\n",
    "x = range(start, limit, step)\n",
    "plt.plot(x, coherence_values)\n",
    "plt.xlabel(\"Num Topics\")\n",
    "plt.ylabel(\"Coherence score\")\n",
    "plt.legend((\"coherence_values\"), loc='best')\n",
    "plt.show()# Print the coherence scores"
   ]
  },
  {
   "cell_type": "code",
   "execution_count": 28,
   "id": "fabad317",
   "metadata": {},
   "outputs": [
    {
     "name": "stdout",
     "output_type": "stream",
     "text": [
      "Num Topics = 2  has Coherence Value of 0.303\n",
      "Num Topics = 3  has Coherence Value of 0.322\n",
      "Num Topics = 4  has Coherence Value of 0.341\n",
      "Num Topics = 5  has Coherence Value of 0.34\n",
      "Num Topics = 6  has Coherence Value of 0.341\n",
      "Num Topics = 7  has Coherence Value of 0.327\n",
      "Num Topics = 8  has Coherence Value of 0.333\n",
      "Num Topics = 9  has Coherence Value of 0.334\n"
     ]
    }
   ],
   "source": [
    "# Print the coherence scores\n",
    "for m, cv in zip(x, coherence_values):\n",
    "    print(\"Num Topics =\", m, \" has Coherence Value of\", round(cv, 3))"
   ]
  },
  {
   "cell_type": "code",
   "execution_count": null,
   "id": "271eaee7",
   "metadata": {},
   "outputs": [],
   "source": []
  },
  {
   "cell_type": "code",
   "execution_count": null,
   "id": "634ba1d1",
   "metadata": {},
   "outputs": [],
   "source": []
  },
  {
   "cell_type": "code",
   "execution_count": null,
   "id": "e71f4329",
   "metadata": {},
   "outputs": [],
   "source": []
  }
 ],
 "metadata": {
  "kernelspec": {
   "display_name": "Python 3 (ipykernel)",
   "language": "python",
   "name": "python3"
  },
  "language_info": {
   "codemirror_mode": {
    "name": "ipython",
    "version": 3
   },
   "file_extension": ".py",
   "mimetype": "text/x-python",
   "name": "python",
   "nbconvert_exporter": "python",
   "pygments_lexer": "ipython3",
   "version": "3.9.13"
  }
 },
 "nbformat": 4,
 "nbformat_minor": 5
}
